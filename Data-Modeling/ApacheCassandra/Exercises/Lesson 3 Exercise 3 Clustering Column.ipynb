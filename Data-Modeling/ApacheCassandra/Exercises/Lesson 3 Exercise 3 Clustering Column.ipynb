{
 "cells": [
  {
   "cell_type": "markdown",
   "source": [
    "# Lesson 3 Exercise 3: Focus on Clustering Columns\n",
    "<img src=\"images/cassandralogo.png\" width=\"250\" height=\"250\">"
   ],
   "metadata": {}
  },
  {
   "cell_type": "markdown",
   "source": [
    "### Walk through the basics of creating a table with a good Primary Key and Clustering Columns in Apache Cassandra, inserting rows of data, and doing a simple CQL query to validate the information. \n",
    "\n",
    "### Remember, replace ##### with your own code."
   ],
   "metadata": {}
  },
  {
   "cell_type": "markdown",
   "source": [
    "#### We will use a python wrapper/ python driver called cassandra to run the Apache Cassandra queries. This library should be preinstalled but in the future to install this library you can run this command in a notebook to install locally: \n",
    "! pip install cassandra-driver\n",
    "#### More documentation can be found here:  https://datastax.github.io/python-driver/"
   ],
   "metadata": {}
  },
  {
   "cell_type": "markdown",
   "source": [
    "#### Import Apache Cassandra python package"
   ],
   "metadata": {}
  },
  {
   "cell_type": "code",
   "execution_count": null,
   "source": [
    "import cassandra"
   ],
   "outputs": [],
   "metadata": {}
  },
  {
   "cell_type": "markdown",
   "source": [
    "### Create a connection to the database"
   ],
   "metadata": {}
  },
  {
   "cell_type": "code",
   "execution_count": null,
   "source": [
    "from cassandra.cluster import Cluster\n",
    "try: \n",
    "    cluster = Cluster(['127.0.0.1']) #If you have a locally installed Apache Cassandra instance\n",
    "    session = cluster.connect()\n",
    "except Exception as e:\n",
    "    print(e)"
   ],
   "outputs": [],
   "metadata": {}
  },
  {
   "cell_type": "markdown",
   "source": [
    "### Create a keyspace to work in "
   ],
   "metadata": {}
  },
  {
   "cell_type": "code",
   "execution_count": null,
   "source": [
    "try:\r\n",
    "    session.execute(\"\"\"\r\n",
    "    CREATE KEYSPACE IF NOT EXISTS udacity \r\n",
    "    WITH REPLICATION = \r\n",
    "    { 'class' : 'SimpleStrategy', 'replication_factor' : 1 }\"\"\"\r\n",
    ")\r\n",
    "\r\n",
    "except Exception as e:\r\n",
    "    print(e)"
   ],
   "outputs": [],
   "metadata": {}
  },
  {
   "cell_type": "markdown",
   "source": [
    "#### Connect to the Keyspace. Compare this to how we had to create a new session in PostgreSQL.  "
   ],
   "metadata": {}
  },
  {
   "cell_type": "code",
   "execution_count": null,
   "source": [
    "try:\r\n",
    "    session.set_keyspace('udacity')\r\n",
    "except Exception as e:\r\n",
    "    print(e)"
   ],
   "outputs": [],
   "metadata": {}
  },
  {
   "cell_type": "markdown",
   "source": [
    "### Imagine we would like to start creating a new Music Library of albums. \n",
    "\n",
    "### We want to ask 1 question of our data:\n",
    "### 1. Give me all the information from the music library about a given album\n",
    "`select * from album_library WHERE album_name=\"Close To You\"`"
   ],
   "metadata": {}
  },
  {
   "cell_type": "markdown",
   "source": [
    "### Here is the data:\n",
    "<img src=\"images/table4.png\" width=\"650\" height=\"350\">"
   ],
   "metadata": {}
  },
  {
   "cell_type": "markdown",
   "source": [
    "### How should we model this data? What should be our Primary Key and Partition Key? "
   ],
   "metadata": {}
  },
  {
   "cell_type": "code",
   "execution_count": null,
   "source": [
    "query = \"CREATE TABLE IF NOT EXISTS artist_library \"\r\n",
    "query = query + \"(album_name text, artist_name text, city text, year int, PRIMARY KEY (album_name, artist_name))\"\r\n",
    "try:\r\n",
    "    session.execute(query)\r\n",
    "except Exception as e:\r\n",
    "    print(e)"
   ],
   "outputs": [],
   "metadata": {}
  },
  {
   "cell_type": "markdown",
   "source": [
    "### Insert data into the table"
   ],
   "metadata": {}
  },
  {
   "cell_type": "code",
   "execution_count": null,
   "source": [
    "## You can opt to change the sequence of columns to match your composite key. \\ \r\n",
    "## If you do, make sure to match the values in the INSERT statement\r\n",
    "\r\n",
    "query = \"INSERT INTO artist_library (album_name, artist_name, city, year)\"\r\n",
    "query = query + \" VALUES (%s, %s, %s, %s)\"\r\n",
    "\r\n",
    "try:\r\n",
    "    session.execute(query, (\"Let it Be\", \"The Beatles\", \"Liverpool\", 1970))\r\n",
    "except Exception as e:\r\n",
    "    print(e)\r\n",
    "    \r\n",
    "try:\r\n",
    "    session.execute(query, (\"Rubber Soul\", \"The Beatles\", \"Oxford\", 1965))\r\n",
    "except Exception as e:\r\n",
    "    print(e)\r\n",
    "    \r\n",
    "try:\r\n",
    "    session.execute(query, (\"Beatles For Sale\", \"The Beatles\", \"London\", 1964))\r\n",
    "except Exception as e:\r\n",
    "    print(e)\r\n",
    "\r\n",
    "try:\r\n",
    "    session.execute(query, (\"The Monkees\", \"The Monkees\", \"Los Angeles\", 1966))\r\n",
    "except Exception as e:\r\n",
    "    print(e)\r\n",
    "\r\n",
    "try:\r\n",
    "    session.execute(query, (\"Close To You\", \"The Carpenters\", \"San Diego\", 1970))\r\n",
    "except Exception as e:\r\n",
    "    print(e)"
   ],
   "outputs": [],
   "metadata": {}
  },
  {
   "cell_type": "markdown",
   "source": [
    "### Validate the Data Model -- Did it work? \n",
    "`select * from album_library WHERE album_name=\"Close To You\"`"
   ],
   "metadata": {}
  },
  {
   "cell_type": "code",
   "execution_count": null,
   "source": [
    "query = \"SELECT * FROM artist_library WHERE album_name = 'Close To You'\"\r\n",
    "try:\r\n",
    "    rows = session.execute(query)\r\n",
    "except Exception as e:\r\n",
    "    print(e)\r\n",
    "    \r\n",
    "for row in rows:\r\n",
    "    print (row.artist_name, row.album_name, row.city, row.year)"
   ],
   "outputs": [],
   "metadata": {}
  },
  {
   "cell_type": "markdown",
   "source": [
    "### Your output should be:\n",
    "('The Carpenters', 'Close to You', 'San Diego', 1970)\n",
    "\n",
    "### OR\n",
    "('The Carpenters', 'Close to You', 1970, 'San Diego') "
   ],
   "metadata": {}
  },
  {
   "cell_type": "markdown",
   "source": [
    "### Drop the table"
   ],
   "metadata": {}
  },
  {
   "cell_type": "code",
   "execution_count": null,
   "source": [
    "query = \"drop table music_library\"\r\n",
    "try:\r\n",
    "    rows = session.execute(query)\r\n",
    "except Exception as e:\r\n",
    "    print(e)\r\n"
   ],
   "outputs": [],
   "metadata": {}
  },
  {
   "cell_type": "markdown",
   "source": [
    "### Close the session and cluster connection"
   ],
   "metadata": {}
  },
  {
   "cell_type": "code",
   "execution_count": null,
   "source": [
    "session.shutdown()\n",
    "cluster.shutdown()"
   ],
   "outputs": [],
   "metadata": {}
  },
  {
   "cell_type": "code",
   "execution_count": null,
   "source": [],
   "outputs": [],
   "metadata": {}
  }
 ],
 "metadata": {
  "kernelspec": {
   "display_name": "Python 3",
   "language": "python",
   "name": "python3"
  },
  "language_info": {
   "codemirror_mode": {
    "name": "ipython",
    "version": 3
   },
   "file_extension": ".py",
   "mimetype": "text/x-python",
   "name": "python",
   "nbconvert_exporter": "python",
   "pygments_lexer": "ipython3",
   "version": "3.6.3"
  }
 },
 "nbformat": 4,
 "nbformat_minor": 2
}
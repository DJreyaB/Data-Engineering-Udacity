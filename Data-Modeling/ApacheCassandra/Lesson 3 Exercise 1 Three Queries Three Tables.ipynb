{
 "cells": [
  {
   "cell_type": "markdown",
   "source": [
    "# Lesson 3 Exercise 1: Three Queries Three Tables\n",
    "<img src=\"images/cassandralogo.png\" width=\"250\" height=\"250\">"
   ],
   "metadata": {}
  },
  {
   "cell_type": "markdown",
   "source": [
    "### Walk through the basics of creating a table in Apache Cassandra, inserting rows of data, and doing a simple CQL query to validate the information. You will practice Denormalization, and the concept of 1 table per query, which is an encouraged practice with Apache Cassandra. \n",
    "\n",
    "### Remember, replace ##### with your answer."
   ],
   "metadata": {}
  },
  {
   "cell_type": "markdown",
   "source": [
    "#### We will use a python wrapper/ python driver called cassandra to run the Apache Cassandra queries. This library should be preinstalled but in the future to install this library you can run this command in a notebook to install locally: \r\n",
    "! pip install cassandra-driver\r\n",
    "#### More documentation can be found here:  https://datastax.github.io/python-driver/"
   ],
   "metadata": {}
  },
  {
   "cell_type": "markdown",
   "source": [
    "#### Import Apache Cassandra python package"
   ],
   "metadata": {}
  },
  {
   "cell_type": "code",
   "execution_count": 1,
   "source": [
    "import cassandra"
   ],
   "outputs": [],
   "metadata": {}
  },
  {
   "cell_type": "markdown",
   "source": [
    "### Create a connection to the database"
   ],
   "metadata": {}
  },
  {
   "cell_type": "code",
   "execution_count": 2,
   "source": [
    "from cassandra.cluster import Cluster\r\n",
    "try: \r\n",
    "    cluster = Cluster(['127.0.0.1']) #If you have a locally installed Apache Cassandra instance\r\n",
    "    session = cluster.connect()\r\n",
    "except Exception as e:\r\n",
    "    print(e)"
   ],
   "outputs": [
    {
     "output_type": "stream",
     "name": "stdout",
     "text": [
      "('Unable to connect to any servers', {'127.0.0.1:9042': ConnectionRefusedError(10061, \"Tried connecting to [('127.0.0.1', 9042)]. Last error: No connection could be made because the target machine actively refused it\")})\n"
     ]
    }
   ],
   "metadata": {}
  },
  {
   "cell_type": "markdown",
   "source": [
    "### Create a keyspace to work in"
   ],
   "metadata": {}
  },
  {
   "cell_type": "code",
   "execution_count": null,
   "source": [
    "try:\r\n",
    "    session.execute(\"\"\"\r\n",
    "    CREATE KEYSPACE IF NOT EXISTS udacity \r\n",
    "    WITH REPLICATION = \r\n",
    "    { 'class' : 'SimpleStrategy', 'replication_factor' : 1 }\"\"\"\r\n",
    ")\r\n",
    "\r\n",
    "except Exception as e:\r\n",
    "    print(e)"
   ],
   "outputs": [],
   "metadata": {}
  },
  {
   "cell_type": "markdown",
   "source": [
    "#### Connect to our Keyspace. Compare this to how we had to create a new session in PostgreSQL.  "
   ],
   "metadata": {}
  },
  {
   "cell_type": "code",
   "execution_count": null,
   "source": [
    "try:\r\n",
    "    session.set_keyspace('udacity')\r\n",
    "except Exception as e:\r\n",
    "    print(e)"
   ],
   "outputs": [],
   "metadata": {}
  },
  {
   "cell_type": "markdown",
   "source": [
    "### Let's imagine we would like to start creating a Music Library of albums. \n",
    "\n",
    "### We want to ask 3 questions of the data\n",
    "#### 1. Give every album in the music library that was released in a given year\n",
    "`select * from music_library WHERE YEAR=1970`\n",
    "#### 2. Give every album in the music library that was created by a given artist  \n",
    "`select * from artist_library WHERE artist_name=\"The Beatles\"`\n",
    "#### 3. Give all the information from the music library about a given album\n",
    "`select * from album_library WHERE album_name=\"Close To You\"`\n"
   ],
   "metadata": {}
  },
  {
   "cell_type": "markdown",
   "source": [
    "### Because we want to do three different queries, we will need different tables that partition the data differently. \n",
    "<img src=\"images/table1.png\" width=\"350\" height=\"350\">\n",
    "<img src=\"images/table2.png\" width=\"350\" height=\"350\">\n",
    "<img src=\"images/table0.png\" width=\"550\" height=\"550\">"
   ],
   "metadata": {}
  },
  {
   "cell_type": "markdown",
   "source": [
    "### TO-DO: Create the tables. "
   ],
   "metadata": {}
  },
  {
   "cell_type": "code",
   "execution_count": null,
   "source": [
    "query = \"CREATE TABLE IF NOT EXISTS music_library\"\r\n",
    "query = query + \"(Year INT , Artist_Name TEXT, Album_Name TEXT,\\\r\n",
    "    PRIMARY KEY(Year, Artist_Name))\"\r\n",
    "try:\r\n",
    "    session.execute(query)\r\n",
    "except Exception as e:\r\n",
    "    print(e)\r\n",
    "    \r\n",
    "query1 = \"CREATE TABLE IF NOT EXISTS artist_library\"\r\n",
    "query1 = query1 + \"(Artist_Name TEXT , Year INT, Album_Name TEXT, \\\r\n",
    "    PRIMARY KEY (Artist_Name, Year))\"\r\n",
    "try:\r\n",
    "    session.execute(query1)\r\n",
    "except Exception as e:\r\n",
    "    print(e)\r\n",
    "\r\n",
    "query2 = \"CREATE TABLE IF NOT EXISTS album_library\"\r\n",
    "query2 = query2 + \"(Album_Name TEXT , Artist_Name TEXT, Year INT, \\\r\n",
    "    PRIMARY KEY (Album_Name, Artist_Name))\"\r\n",
    "try:\r\n",
    "    session.execute(query2)\r\n",
    "except Exception as e:\r\n",
    "    print(e)"
   ],
   "outputs": [],
   "metadata": {}
  },
  {
   "cell_type": "markdown",
   "source": [
    "### TO-DO: Insert data into the tables"
   ],
   "metadata": {}
  },
  {
   "cell_type": "code",
   "execution_count": null,
   "source": [
    "query = \"INSERT INTO music_library (Year, Artist_Name, Album_Name)\"\r\n",
    "query = query + \" VALUES (%s, %s, %s)\"\r\n",
    "\r\n",
    "query1 = \"INSERT INTO artist_library (Artist_Name, Year, Album_Name)\"\r\n",
    "query1 = query1 + \" VALUES (%s, %s, %s)\"\r\n",
    "\r\n",
    "query2 = \"INSERT INTO album_library (Album_Name, Artist_Name, Year)\"\r\n",
    "query2 = query2 + \" VALUES (%s, %s, %s)\"\r\n",
    "\r\n",
    "try:\r\n",
    "    session.execute(query, (1970, \"The Beatles\", \"Let it Be\"))\r\n",
    "except Exception as e:\r\n",
    "    print(e)\r\n",
    "    \r\n",
    "try:\r\n",
    "    session.execute(query, (1965, \"The Beatles\", \"Rubber Soul\"))\r\n",
    "except Exception as e:\r\n",
    "    print(e)\r\n",
    "    \r\n",
    "try:\r\n",
    "    session.execute(query, (1965, \"The Who\", \"My Generation\"))\r\n",
    "except Exception as e:\r\n",
    "    print(e)\r\n",
    "\r\n",
    "try:\r\n",
    "    session.execute(query, (1966, \"The Monkees\", \"The Monkees\"))\r\n",
    "except Exception as e:\r\n",
    "    print(e)\r\n",
    "\r\n",
    "try:\r\n",
    "    session.execute(query, (1970, \"The Carpenters\", \"Close To You\"))\r\n",
    "except Exception as e:\r\n",
    "    print(e)\r\n",
    "    \r\n",
    "try:\r\n",
    "    session.execute(query1, (\"The Beatles\", 1970, \"Let it Be\"))\r\n",
    "except Exception as e:\r\n",
    "    print(e)\r\n",
    "    \r\n",
    "try:\r\n",
    "    session.execute(query1, (\"The Beatles\", 1965, \"Rubber Soul\"))\r\n",
    "except Exception as e:\r\n",
    "    print(e)\r\n",
    "    \r\n",
    "try:\r\n",
    "    session.execute(query1, (\"The Who\", 1965, \"My Generation\"))\r\n",
    "except Exception as e:\r\n",
    "    print(e)\r\n",
    "\r\n",
    "try:\r\n",
    "    session.execute(query1, (\"The Monkees\", 1966, \"The Monkees\"))\r\n",
    "except Exception as e:\r\n",
    "    print(e)\r\n",
    "\r\n",
    "try:\r\n",
    "    session.execute(query1, (\"The Carpenters\", 1970, \"Close To You\"))\r\n",
    "except Exception as e:\r\n",
    "    print(e)\r\n",
    "    \r\n",
    "try:\r\n",
    "    session.execute(query2, (\"Let it Be\", \"The Beatles\", 1970))\r\n",
    "except Exception as e:\r\n",
    "    print(e)\r\n",
    "    \r\n",
    "try:\r\n",
    "    session.execute(query2, (\"Rubber Soul\", \"The Beatles\", 1965))\r\n",
    "except Exception as e:\r\n",
    "    print(e)\r\n",
    "    \r\n",
    "try:\r\n",
    "    session.execute(query2, (\"My Generation\", \"The Who\", 1965))\r\n",
    "except Exception as e:\r\n",
    "    print(e)\r\n",
    "\r\n",
    "try:\r\n",
    "    session.execute(query2, (\"The Monkees\", \"The Monkees\", 1966))\r\n",
    "except Exception as e:\r\n",
    "    print(e)\r\n",
    "\r\n",
    "try:\r\n",
    "    session.execute(query2, (\"Close To You\", \"The Carpenters\", 1970))\r\n",
    "except Exception as e:\r\n",
    "    print(e)"
   ],
   "outputs": [],
   "metadata": {}
  },
  {
   "cell_type": "markdown",
   "source": [
    "This might have felt unnatural to insert duplicate data into the tables. If I just normalized these tables, I wouldn't have to have extra copies! While this is true, remember there are no `JOINS` in Apache Cassandra. For the benefit of high availibity and scalabity, denormalization must be how this is done. \n"
   ],
   "metadata": {}
  },
  {
   "cell_type": "markdown",
   "source": [
    "### TO-DO: Validate the Data Model"
   ],
   "metadata": {}
  },
  {
   "cell_type": "code",
   "execution_count": null,
   "source": [
    "query = \"select * from music_library WHERE Year=1970\"\r\n",
    "try:\r\n",
    "    rows = session.execute(query)\r\n",
    "except Exception as e:\r\n",
    "    print(e)\r\n",
    "    \r\n",
    "for row in rows:\r\n",
    "    print (row.year, row.artist_name, row.album_name)"
   ],
   "outputs": [],
   "metadata": {}
  },
  {
   "cell_type": "markdown",
   "source": [
    "### Your output should be:\n",
    "1970 The Beatles Let it Be<br>\n",
    "1970 The Carpenters Close To You"
   ],
   "metadata": {}
  },
  {
   "cell_type": "markdown",
   "source": [
    "### TO-DO: Validate the Data Model"
   ],
   "metadata": {}
  },
  {
   "cell_type": "code",
   "execution_count": null,
   "source": [
    "query = \"select * from artist_library WHERE Artist_Name = 'The Beatles'\"\r\n",
    "try:\r\n",
    "    rows = session.execute(query)\r\n",
    "except Exception as e:\r\n",
    "    print(e)\r\n",
    "    \r\n",
    "for row in rows:\r\n",
    "    print (row.artist_name, row.album_name, row.year)"
   ],
   "outputs": [],
   "metadata": {}
  },
  {
   "cell_type": "markdown",
   "source": [
    "### Your output should be:\n",
    "The Beatles Rubber Soul 1965 <br>\n",
    "The Beatles Let it Be 1970 "
   ],
   "metadata": {}
  },
  {
   "cell_type": "markdown",
   "source": [
    "### TO-DO: Validate the Data Model"
   ],
   "metadata": {}
  },
  {
   "cell_type": "code",
   "execution_count": null,
   "source": [
    "query = \"select * from album_library WHERE Album_Name = 'Close To You'\"\r\n",
    "try:\r\n",
    "    rows = session.execute(query)\r\n",
    "except Exception as e:\r\n",
    "    print(e)\r\n",
    "    \r\n",
    "for row in rows:\r\n",
    "    print (row.artist_name, row.year, row.album_name)"
   ],
   "outputs": [],
   "metadata": {}
  },
  {
   "cell_type": "markdown",
   "source": [
    "### Your output should be:\n",
    "The Carpenters 1970 Close To You"
   ],
   "metadata": {}
  },
  {
   "cell_type": "markdown",
   "source": [
    "### And finally close the session and cluster connection"
   ],
   "metadata": {}
  },
  {
   "cell_type": "code",
   "execution_count": null,
   "source": [
    "session.shutdown()\r\n",
    "cluster.shutdown()"
   ],
   "outputs": [],
   "metadata": {}
  },
  {
   "cell_type": "code",
   "execution_count": null,
   "source": [],
   "outputs": [],
   "metadata": {}
  }
 ],
 "metadata": {
  "kernelspec": {
   "name": "python3",
   "display_name": "Python 3.9.7 64-bit (windows store)"
  },
  "language_info": {
   "codemirror_mode": {
    "name": "ipython",
    "version": 3
   },
   "file_extension": ".py",
   "mimetype": "text/x-python",
   "name": "python",
   "nbconvert_exporter": "python",
   "pygments_lexer": "ipython3",
   "version": "3.9.7"
  },
  "interpreter": {
   "hash": "fa6cc938ade9412850958d33e126dc3aab531d296da54b31158fe3557911ce43"
  }
 },
 "nbformat": 4,
 "nbformat_minor": 2
}